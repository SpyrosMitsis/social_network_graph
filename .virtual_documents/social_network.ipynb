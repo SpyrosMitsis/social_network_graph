


from pyvis.network import Network
from faker import Faker
import random
from Graph import Graph
from typing import Optional 





class X2(Graph):
    def __init__(self, directed=True):
        super().__init__(directed=directed)
        
    def get_total_likes(self, user: 'Graph.Vertex') -> int:
        total_likes: int = 0
        
        edges: 'Graph.Edge' = self.get_incoming_edges(user)
        
        for edge in edges.values():
            total_likes += edge.element['likes']

        return total_likes

    def get_total_comments(self, user: 'Graph.Vertex') -> int:
        total_comments: int = 0
        
        edges: 'Graph.Edge' = self.get_incoming_edges(user)
        
        for edge in edges.values():
            total_comments += edge.element['comments']

        return total_comments 
    
    def follower_count(self, user: 'Graph.Vertex') -> int:
        return len(self.get_incoming_edges(user))
    
    def engagement_rate(self, user: 'Graph.Vertex') -> float:
        return ((self.get_total_likes(user) + self.get_total_comments(user)) / self.follower_count(user)) * 100

    def likes_from_user_count(self, source_user: 'Graph.Vertex', destination_user: 'Graph.Vertex') -> int:

        total_likes: int = 0 
        edges: dict = self.get_incoming_edges(destination_user)
        
        for edge in edges.values():
            if edge._origin == source_user:
                total_likes += edge.element['likes']

        return total_likes

    def comments_from_user_count(self, source_user: 'Graph.Vertex', destination_user: 'Graph.Vertex') -> int:

        total_comments: int = 0 
        edges: dict = self.get_incoming_edges(destination_user)
        
        for edge in edges.values():
            if edge._origin == source_user:
                total_comments += edge.element['comments']

        return total_comments 
    
    def influence_rate(self, source_user: 'Graph.Vertex', destination_user: 'Graph.Vertex') -> float:
        return ((self.likes_from_user_count(source_user, destination_user) \
                + self.comments_from_user_count(source_user, destination_user)) / self.engagement_rate(source_user) )
    


    def dijkstra_most_infuential(self, source: 'Graph.Vertex', destination: 'Graph.Vertex') -> tuple[float, list]:
        # Initialize influence scores and paths with zero for all vertices except the source
        influences: dict = {vertex: 0 for vertex in self._outgoing}
        
        paths: dict = {vertex: [] for vertex in self._outgoing}
        paths[source] = [source]
        
        pq: list[tuple[int, 'Graph.Vertex']] = [(0, source)]  # List of tuples (influence score, vertex)
        visited: set = set()

        while pq:
            pq.sort(key=lambda x: x[0])
            current_influence, current_vertex = pq.pop()

            if current_vertex in visited:
                continue

            # Mark the current vertex as visited
            visited.add(current_vertex)

            if current_vertex == destination:
                return current_influence, paths[destination]

            # Check neighbors and update influence scores and paths
            for edge in self.incident_edges(current_vertex):
                neighbor = edge.opposite(current_vertex)
                new_influence = influences[current_vertex] + self.influence_rate(current_vertex, neighbor)
                if new_influence > influences[neighbor]:
                    influences[neighbor] = new_influence
                    paths[neighbor] = paths[current_vertex] + [neighbor]
                    pq.append((new_influence, neighbor))

        # If the destination vertex is not reachable, return None
        return float('-inf'), None





x = X2()
Faker.seed(42)
fake = Faker()
random.seed(42)





num_of_vertices = 100
num_of_edges = 800


vertices = [fake.name() for _ in range(num_of_vertices)]
edges = []
for _ in range(num_of_edges):
    # Ensure that the two vertices for an edge are different
    u_vertex, v_vertex = random.sample(vertices, 2)
    edge_data = {"likes": random.randint(1000, 10000), "comments": random.randint(1000, 10000)}
    edges.append([u_vertex, v_vertex, edge_data])


vertex_objects = {}  # Dictionary to store mapping of vertex element to Vertex object
    
for v in vertices:
    vertex_object = x.insert_vertex(v)
    vertex_objects[v] = vertex_object
    

for edge in edges:
    x.insert_edge(edge[0], edge[1], edge[2])






test_users = random.sample(vertices, 2)





print(x.bfs(vertex_objects[test_users[0]], vertex_objects[test_users[1]])) 
influence_score, path= x.dijkstra_most_infuential(vertex_objects[test_users[0]], vertex_objects[test_users[1]])
print(influence_score, path, len(path))





# Create a Pyvis network instance
net = Network(notebook = True, cdn_resources = "remote",
            bgcolor = "#222222",
            font_color = "white",
            height = "1000",
            width = "100%",
            directed = True,
            select_menu=True
)

net.set_options("""
const options = {
  "physics": {
    "barnesHut": {
      "gravitationalConstant": -16850,
      "centralGravity": 0,
      "springLength": 190,
      "springConstant": 0,
      "damping": 0.1
    },
    "minVelocity": 0.75
  }
}
""")

# Add nodes (vertices) to the network
for vertex in x.vertices():
    net.add_node(vertex.element, title=str(vertex.element))

# Add edges to the network
for edge in x.edges():
    net.add_edge(edge._origin.element, edge._destination.element,
                    title=f"Likes: {edge.element['likes']} | Comments: {edge.element['comments']}")

# Visualize the network
net.show("graph.html")





distance, path = x.dijkstra_most_infuential(vertex_objects[test_users[0]], vertex_objects[test_users[1]])
# print(f'distance: {distance}\npath taken: {path}\nnumber of steps {len(path)}')

net = Network(notebook = True, cdn_resources = "remote",
            bgcolor = "#222222",
            font_color = "white",
            directed = True,
            height = "600",
            width = "100%",
)
# Print the type of each element in the path
for vertex in path:
    net.add_node(vertex.element, title=str(vertex.element))

for i in range(len(path) - 1):
    edge = x.get_edge(path[i], path[i+1])
    net.add_edge(path[i].element, path[i+1].element, title=f"Likes: {edge.element['likes']} | Comments: {edge.element['comments']}")

net.show("dijksta.html")





distance, path = x.bfs(vertex_objects[test_users[0]], vertex_objects[test_users[1]])
# print(f'distance: {distance} path taken: {path}')

net = Network(notebook = True, cdn_resources = "remote",
            bgcolor = "#222222",
            font_color = "white",
            height = "600",
            width = "100%",
            directed = True
)
# Print the type of each element in the path
for vertex in path:
    net.add_node(vertex.element, title=str(vertex.element))

for i in range(len(path) - 1):
    edge = x.get_edge(path[i], path[i+1])
    net.add_edge(path[i].element, path[i+1].element, title=f"Likes: {edge.element['likes']} | Comments: {edge.element['comments']}")

net.show("bfs.html")
