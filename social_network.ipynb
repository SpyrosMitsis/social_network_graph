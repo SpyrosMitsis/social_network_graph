{
 "cells": [
  {
   "cell_type": "markdown",
   "id": "4f108908-64f0-4ca0-b0dd-e215c0eadd8e",
   "metadata": {},
   "source": [
    "#### Imports"
   ]
  },
  {
   "cell_type": "code",
   "execution_count": 1,
   "id": "eb8830d9-6c02-43ff-a612-a1ab5badebef",
   "metadata": {
    "metadata": {}
   },
   "outputs": [],
   "source": [
    "from pyvis.network import Network\n",
    "from faker import Faker\n",
    "import random\n",
    "from Graph import Graph\n",
    "from typing import Optional "
   ]
  },
  {
   "cell_type": "markdown",
   "id": "427a19aa-b00b-44d4-8eb3-fd223453243e",
   "metadata": {},
   "source": [
    "# Social Network class\n",
    "\n",
    "This class implements from the graph class but implements some more social network specific methods.\n",
    "\n",
    "1. _get_total_likes()_\n",
    "2. _get_total_comments()_\n",
    "3. _follower_count()_\n",
    "\n",
    "## Engament Rate\n",
    "These 3 methods are used to calculate the engament rate based on this formula:\n",
    "\n",
    "$$\n",
    "\\text{Engagement Rate} = \\frac{{\\text{Total Likes} + \\text{Total Comments}}}{{\\text{Followers}}} \\times 100\n",
    "$$\n",
    "\n",
    "## Member infuelnce rate\n",
    "\n",
    "This metric is used to calculate the influence of a member _A_ to a member _B_.\n",
    "\n",
    "$$\n",
    "\\text{A to B influence} = \\frac{{\\text{Likes A to B} + \\text{Comments A to B}}}{{\\text{engagement rate A}}}\n",
    "$$\n",
    "\n",
    "This formula need 2 methods to be calculated:\n",
    "\n",
    "1. _likes_from_user_count()_\n",
    "2. _comments_from_user_count()_\n",
    "\n",
    "\n",
    "###  Most infuential path\n",
    "To find the most infuelential path a modified vertsion of Dijkstra's algorithm is used \r\n",
    "\n",
    "\n"
   ]
  },
  {
   "cell_type": "code",
   "execution_count": 2,
   "id": "a9b04b3f-4d47-4c1b-aefc-4a8397952511",
   "metadata": {
    "editable": true,
    "metadata": {},
    "slideshow": {
     "slide_type": ""
    },
    "tags": []
   },
   "outputs": [],
   "source": [
    "class X2(Graph):\n",
    "    def __init__(self, directed=True):\n",
    "        super().__init__(directed=directed)\n",
    "        \n",
    "    def get_total_likes(self, user: 'Graph.Vertex') -> int:\n",
    "        edges: 'Graph.Edge' = self.incident_edges(user, outgoing=False)\n",
    "        return sum(edge.element['likes'] for edge in edges)\n",
    "\n",
    "\n",
    "    def get_total_comments(self, user: 'Graph.Vertex') -> int:\n",
    "        edges: 'Graph.Edge' = self.incident_edges(user, outgoing=False)\n",
    "        return sum(edge.element['comments'] for edge in edges)\n",
    "\n",
    "    def follower_count(self, user: 'Graph.Vertex') -> int:\n",
    "        return self.degree(user, outgoing=False)\n",
    "    \n",
    "    def engagement_rate(self, user: 'Graph.Vertex') -> float:\n",
    "        return ((self.get_total_likes(user) + self.get_total_comments(user)) / self.follower_count(user)) * 100\n",
    "\n",
    "    def likes_from_user_count(self, source_user: 'Graph.Vertex', destination_user: 'Graph.Vertex') -> int:\n",
    "\n",
    "        edges = self.incident_edges(destination_user, outgoing=False)\n",
    "\n",
    "        for edge in edges:\n",
    "            if edge._origin == source_user:\n",
    "                return edge.element['likes']\n",
    "\n",
    "\n",
    "    def comments_from_user_count(self, source_user: 'Graph.Vertex', destination_user: 'Graph.Vertex') -> int:\n",
    "\n",
    "        edges = self.incident_edges(destination_user, outgoing=False)\n",
    "        \n",
    "        for edge in edges:\n",
    "            if edge._origin == source_user:\n",
    "                return edge.element['comments']\n",
    "    \n",
    "    def influence_rate(self, source_user: 'Graph.Vertex', destination_user: 'Graph.Vertex') -> float:\n",
    "        return ((self.likes_from_user_count(source_user, destination_user) \\\n",
    "                + self.comments_from_user_count(source_user, destination_user)) / self.engagement_rate(source_user) )\n",
    "    \n",
    "\n",
    "\n",
    "    def dijkstra_most_infuential(self, source: 'Graph.Vertex', destination: 'Graph.Vertex') -> tuple[float, list]:\n",
    "        # Initialize influence scores and paths with zero for all vertices except the source\n",
    "        influences: dict = {vertex: 0 for vertex in self.vertices()}\n",
    "        \n",
    "        paths: dict = {vertex: [] for vertex in self._outgoing}\n",
    "        paths[source] = [source]\n",
    "        \n",
    "        pq: list[tuple[int, 'Graph.Vertex']] = [(0, source)]  # List of tuples (influence score, vertex)\n",
    "        visited: set = set()\n",
    "\n",
    "        while pq:\n",
    "            pq.sort(key=lambda x: x[0])\n",
    "            current_influence, current_vertex = pq.pop()\n",
    "\n",
    "            if current_vertex in visited:\n",
    "                continue\n",
    "\n",
    "            # Mark the current vertex as visited\n",
    "            visited.add(current_vertex)\n",
    "\n",
    "            if current_vertex == destination:\n",
    "                return current_influence, paths[destination]\n",
    "\n",
    "            # Check neighbors and update influence scores and paths\n",
    "            for edge in self.incident_edges(current_vertex):\n",
    "                neighbor = edge.opposite(current_vertex)\n",
    "                new_influence = influences[current_vertex] + self.influence_rate(current_vertex, neighbor)\n",
    "                if new_influence > influences[neighbor]:\n",
    "                    influences[neighbor] = new_influence\n",
    "                    paths[neighbor] = paths[current_vertex] + [neighbor]\n",
    "                    pq.append((new_influence, neighbor))\n",
    "\n",
    "        # If the destination vertex is not reachable, return None\n",
    "        return float('-inf'), None"
   ]
  },
  {
   "cell_type": "markdown",
   "id": "cfb92502-b484-4959-8552-f3710fe1e340",
   "metadata": {},
   "source": [
    "# Generating Vertices and edges"
   ]
  },
  {
   "cell_type": "code",
   "execution_count": 3,
   "id": "3510bd60-4b83-4a39-92f9-b80b8733ef7d",
   "metadata": {
    "metadata": {}
   },
   "outputs": [],
   "source": [
    "x = X2()\n",
    "Faker.seed(42)\n",
    "fake = Faker()\n",
    "random.seed(42)"
   ]
  },
  {
   "cell_type": "markdown",
   "id": "1bacb77f-f91c-42a6-b1e0-fa6aeffba356",
   "metadata": {},
   "source": [
    "To modify the number of edges and vertices change the number in the for loop"
   ]
  },
  {
   "cell_type": "code",
   "execution_count": 4,
   "id": "d81c0e86-02d1-4f5e-9551-d5969f812f25",
   "metadata": {},
   "outputs": [],
   "source": [
    "num_of_vertices = 100\n",
    "num_of_edges = 800"
   ]
  },
  {
   "cell_type": "code",
   "execution_count": 5,
   "id": "e26a35dd-568c-4c3d-9fd3-8825cda173b3",
   "metadata": {},
   "outputs": [],
   "source": [
    "vertices = [fake.name() for _ in range(num_of_vertices)]\n",
    "edges = []\n",
    "for _ in range(num_of_edges):\n",
    "    # Ensure that the two vertices for an edge are different\n",
    "    u_vertex, v_vertex = random.sample(vertices, 2)\n",
    "    edge_data = {\"likes\": random.randint(1000, 10000), \"comments\": random.randint(1000, 10000)}\n",
    "    edges.append([u_vertex, v_vertex, edge_data])"
   ]
  },
  {
   "cell_type": "code",
   "execution_count": 6,
   "id": "888fc843-33db-49f3-b6a5-541605970e47",
   "metadata": {},
   "outputs": [],
   "source": [
    "vertex_objects = {}  # Dictionary to store mapping of vertex element to Vertex object\n",
    "    \n",
    "for v in vertices:\n",
    "    vertex_object = x.insert_vertex(v)\n",
    "    vertex_objects[v] = vertex_object\n",
    "    \n",
    "\n",
    "for edge in edges:\n",
    "    x.insert_edge(edge[0], edge[1], edge[2])\n"
   ]
  },
  {
   "cell_type": "markdown",
   "id": "5fb1e295-928d-4b99-afe4-89881b868055",
   "metadata": {},
   "source": [
    "# Selecting 2 sample users for bfs and dijkstra"
   ]
  },
  {
   "cell_type": "code",
   "execution_count": 7,
   "id": "e22cd9f4-b912-4f93-87ac-43222f68525d",
   "metadata": {},
   "outputs": [],
   "source": [
    "test_users = random.sample(vertices, 2)"
   ]
  },
  {
   "cell_type": "markdown",
   "id": "0a06d688-f82b-42be-a300-4964fc17e3d3",
   "metadata": {},
   "source": [
    "#### This code prints the result of bfs and dijkstra, for the graph scroll down"
   ]
  },
  {
   "cell_type": "code",
   "execution_count": 8,
   "id": "9d310dc0-ce4e-45b2-8e3a-3322a4a59c6e",
   "metadata": {},
   "outputs": [
    {
     "name": "stdout",
     "output_type": "stream",
     "text": [
      "(3, ['Jeffrey Chavez', 'Cristian Santos', 'Sherri Baker', 'Angela Lopez'])\n",
      "1.0275687738261552 ['Jeffrey Chavez', 'Lisa Jackson', 'Megan Young', 'Tommy Walter', 'Amy Silva', 'Danny Morgan', 'Joshua Blair', 'Ryan Munoz', 'Cassandra Gaines', 'John Whitehead', 'Connie Lawrence', 'Philip Cannon', 'Shane Henderson', 'Sherri Baker', 'Brent Jordan', 'Holly Wood', 'Deborah Figueroa', 'Margaret Hawkins DDS', 'Christina Walters', 'Paula Moreno', 'Kelly Donovan', 'Rebecca Henderson', 'Matthew Foster', 'Stephanie Ross', 'Judy Baker', 'Eric Carney', 'Whitney Peters', 'Fred Smith', 'Patty Perez', 'Tricia Valencia', 'Zachary Ferrell', 'Shannon Jones', 'Dylan Miller', 'Jessica Smith', 'Stephen Mckee', 'William Baker', 'Matthew Mcmillan', 'Anthony Rodriguez', 'Sherry Decker', 'Jordan Henderson', 'Carol Tucker', 'John Pierce', 'Lisa Barnes', 'Mike Allen', 'Aaron Wise', 'Timothy Duncan', 'Mark Perez', 'Aimee Montoya', 'Derek Zuniga', 'Denise Jacobs', 'Sarah Moore', 'Michele Williams', 'Lauren Daniels', 'Shirley Suarez', 'Richard Aguirre', 'James Brown', 'Anthony Humphrey', 'Daniel Wagner', 'Jamie Arnold', 'Zachary Hicks', 'Elizabeth Fowler', 'John Daniel', 'Christopher Bass', 'James Ferrell', 'Brian Ramirez', 'Allison Hill', 'Crystal Robinson', 'Abigail Shaffer', 'Daniel Baker', 'Monica Herrera', 'Jessica Holmes', 'Steve Sanchez', 'Brittney Phillips', 'Lisa Hensley', 'Michael Lewis', 'Ethan Adams', 'Brian Rodriguez', 'Tracy House', 'Paul Jones', 'Angela Lopez'] 80\n"
     ]
    }
   ],
   "source": [
    "print(x.bfs(vertex_objects[test_users[0]], vertex_objects[test_users[1]])) \n",
    "influence_score, path= x.dijkstra_most_infuential(vertex_objects[test_users[0]], vertex_objects[test_users[1]])\n",
    "print(influence_score, path, len(path))"
   ]
  },
  {
   "cell_type": "markdown",
   "id": "4d108601-ef0d-43f3-84b8-47054dd48ccf",
   "metadata": {},
   "source": [
    "# Visualization of the entire network"
   ]
  },
  {
   "cell_type": "code",
   "execution_count": 9,
   "id": "1900ff4f-301c-4c28-a891-ac900ecc4685",
   "metadata": {},
   "outputs": [
    {
     "name": "stdout",
     "output_type": "stream",
     "text": [
      "graph.html\n"
     ]
    },
    {
     "data": {
      "text/html": [
       "\n",
       "        <iframe\n",
       "            width=\"100%\"\n",
       "            height=\"1000\"\n",
       "            src=\"graph.html\"\n",
       "            frameborder=\"0\"\n",
       "            allowfullscreen\n",
       "            \n",
       "        ></iframe>\n",
       "        "
      ],
      "text/plain": [
       "<IPython.lib.display.IFrame at 0x2410162ca70>"
      ]
     },
     "execution_count": 9,
     "metadata": {},
     "output_type": "execute_result"
    }
   ],
   "source": [
    "# Create a Pyvis network instance\n",
    "net = Network(notebook = True, cdn_resources = \"remote\",\n",
    "            bgcolor = \"#222222\",\n",
    "            font_color = \"white\",\n",
    "            height = \"1000\",\n",
    "            width = \"100%\",\n",
    "            directed = True,\n",
    "            select_menu=True\n",
    ")\n",
    "\n",
    "net.set_options(\"\"\"\n",
    "const options = {\n",
    "  \"physics\": {\n",
    "    \"barnesHut\": {\n",
    "      \"gravitationalConstant\": -16850,\n",
    "      \"centralGravity\": 0,\n",
    "      \"springLength\": 190,\n",
    "      \"springConstant\": 0,\n",
    "      \"damping\": 0.1\n",
    "    },\n",
    "    \"minVelocity\": 0.75\n",
    "  }\n",
    "}\n",
    "\"\"\")\n",
    "\n",
    "# Add nodes (vertices) to the network\n",
    "for vertex in x.vertices():\n",
    "    net.add_node(vertex.element, title=str(vertex.element))\n",
    "\n",
    "# Add edges to the network\n",
    "for edge in x.edges():\n",
    "    net.add_edge(edge._origin.element, edge._destination.element,\n",
    "                    title=f\"Likes: {edge.element['likes']} | Comments: {edge.element['comments']}\")\n",
    "\n",
    "# Visualize the network\n",
    "net.show(\"graph.html\")"
   ]
  },
  {
   "cell_type": "markdown",
   "id": "74cb1f0a-b3fb-4ff0-8292-26443389b19b",
   "metadata": {},
   "source": [
    "# Visualization of most infuential path using modified Dijkstra's algorithm from node A to B"
   ]
  },
  {
   "cell_type": "code",
   "execution_count": 10,
   "id": "7f724f92-08e2-4f39-845a-4c1fd8d8f661",
   "metadata": {},
   "outputs": [
    {
     "name": "stdout",
     "output_type": "stream",
     "text": [
      "dijksta.html\n"
     ]
    },
    {
     "data": {
      "text/html": [
       "\n",
       "        <iframe\n",
       "            width=\"100%\"\n",
       "            height=\"600\"\n",
       "            src=\"dijksta.html\"\n",
       "            frameborder=\"0\"\n",
       "            allowfullscreen\n",
       "            \n",
       "        ></iframe>\n",
       "        "
      ],
      "text/plain": [
       "<IPython.lib.display.IFrame at 0x241013535f0>"
      ]
     },
     "execution_count": 10,
     "metadata": {},
     "output_type": "execute_result"
    }
   ],
   "source": [
    "distance, path = x.dijkstra_most_infuential(vertex_objects[test_users[0]], vertex_objects[test_users[1]])\n",
    "# print(f'distance: {distance}\\npath taken: {path}\\nnumber of steps {len(path)}')\n",
    "\n",
    "net = Network(notebook = True, cdn_resources = \"remote\",\n",
    "            bgcolor = \"#222222\",\n",
    "            font_color = \"white\",\n",
    "            directed = True,\n",
    "            height = \"600\",\n",
    "            width = \"100%\",\n",
    ")\n",
    "# Print the type of each element in the path\n",
    "for vertex in path:\n",
    "    net.add_node(vertex.element, title=str(vertex.element))\n",
    "\n",
    "for i in range(len(path) - 1):\n",
    "    edge = x.get_edge(path[i], path[i+1])\n",
    "    net.add_edge(path[i].element, path[i+1].element, title=f\"Likes: {edge.element['likes']} | Comments: {edge.element['comments']}\")\n",
    "\n",
    "net.show(\"dijksta.html\")"
   ]
  },
  {
   "cell_type": "markdown",
   "id": "42ab86c5-a43e-43e1-a55f-31e68ddb621d",
   "metadata": {},
   "source": [
    "# Visualization of shortest path using bfs "
   ]
  },
  {
   "cell_type": "code",
   "execution_count": 11,
   "id": "ef6c2488-5e01-40ec-a4b1-75d9ca5f8be8",
   "metadata": {},
   "outputs": [
    {
     "name": "stdout",
     "output_type": "stream",
     "text": [
      "bfs.html\n"
     ]
    },
    {
     "data": {
      "text/html": [
       "\n",
       "        <iframe\n",
       "            width=\"100%\"\n",
       "            height=\"600\"\n",
       "            src=\"bfs.html\"\n",
       "            frameborder=\"0\"\n",
       "            allowfullscreen\n",
       "            \n",
       "        ></iframe>\n",
       "        "
      ],
      "text/plain": [
       "<IPython.lib.display.IFrame at 0x241010df080>"
      ]
     },
     "execution_count": 11,
     "metadata": {},
     "output_type": "execute_result"
    }
   ],
   "source": [
    "distance, path = x.bfs(vertex_objects[test_users[0]], vertex_objects[test_users[1]])\n",
    "# print(f'distance: {distance} path taken: {path}')\n",
    "\n",
    "net = Network(notebook = True, cdn_resources = \"remote\",\n",
    "            bgcolor = \"#222222\",\n",
    "            font_color = \"white\",\n",
    "            height = \"600\",\n",
    "            width = \"100%\",\n",
    "            directed = True\n",
    ")\n",
    "# Print the type of each element in the path\n",
    "for vertex in path:\n",
    "    net.add_node(vertex.element, title=str(vertex.element))\n",
    "\n",
    "for i in range(len(path) - 1):\n",
    "    edge = x.get_edge(path[i], path[i+1])\n",
    "    net.add_edge(path[i].element, path[i+1].element, title=f\"Likes: {edge.element['likes']} | Comments: {edge.element['comments']}\")\n",
    "\n",
    "net.show(\"bfs.html\")"
   ]
  }
 ],
 "metadata": {
  "kernelspec": {
   "display_name": "Python 3 (ipykernel)",
   "language": "python",
   "name": "python3"
  },
  "language_info": {
   "codemirror_mode": {
    "name": "ipython",
    "version": 3
   },
   "file_extension": ".py",
   "mimetype": "text/x-python",
   "name": "python",
   "nbconvert_exporter": "python",
   "pygments_lexer": "ipython3",
   "version": "3.12.0"
  }
 },
 "nbformat": 4,
 "nbformat_minor": 5
}
